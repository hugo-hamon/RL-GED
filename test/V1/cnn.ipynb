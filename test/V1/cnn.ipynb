{
 "cells": [
  {
   "cell_type": "markdown",
   "metadata": {},
   "source": [
    "# Importation des librairies"
   ]
  },
  {
   "cell_type": "code",
   "execution_count": 2,
   "metadata": {},
   "outputs": [
    {
     "name": "stderr",
     "output_type": "stream",
     "text": [
      "2024-03-22 11:37:03,273\tINFO util.py:154 -- Outdated packages:\n",
      "  ipywidgets==7.8.1 found, needs ipywidgets>=8\n",
      "Run `pip install -U ipywidgets`, then restart the notebook server for rich notebook output.\n"
     ]
    }
   ],
   "source": [
    "%load_ext autoreload\n",
    "%autoreload 2\n",
    "import matplotlib.pyplot as plt\n",
    "from munkres import Munkres\n",
    "from model import CNNModel, ResNet\n",
    "import seaborn as sns\n",
    "import torch.nn as nn\n",
    "import networkx as nx\n",
    "import pandas as pd\n",
    "import numpy as np\n",
    "import itertools\n",
    "import pickle\n",
    "import torch\n",
    "import tqdm\n",
    "import ray"
   ]
  },
  {
   "cell_type": "markdown",
   "metadata": {},
   "source": [
    "## Définition du modèle"
   ]
  },
  {
   "cell_type": "code",
   "execution_count": 3,
   "metadata": {},
   "outputs": [],
   "source": [
    "MATRIX_SIZE = 12\n",
    "\n",
    "device = torch.device(\"cuda\" if torch.cuda.is_available() else \"cpu\")\n",
    "\n",
    "model = CNNModel(\n",
    "    state_size=MATRIX_SIZE**2,\n",
    "    input_size=2,\n",
    "    num_hidden=64\n",
    ").to(device)\n",
    "\n",
    "\n",
    "model = ResNet(\n",
    "    state_size=MATRIX_SIZE**2,\n",
    "    input_size=2,\n",
    "    num_resBlocks=4,\n",
    "    num_hidden=64\n",
    ").to(device)"
   ]
  },
  {
   "cell_type": "markdown",
   "metadata": {},
   "source": [
    "## Fonction pour augmenter la taille de la matrice"
   ]
  },
  {
   "cell_type": "code",
   "execution_count": 4,
   "metadata": {},
   "outputs": [],
   "source": [
    "def augmented_matrix(matrix: np.ndarray, new_size: int, g1: nx.Graph, g2: nx.Graph) -> np.ndarray:\n",
    "    if matrix.shape[0] > new_size or matrix.shape[1] > new_size:\n",
    "        raise ValueError(\"New size is smaller than the original matrix\")\n",
    "    n = len(g1.nodes)\n",
    "    m = len(g2.nodes)\n",
    "    new_matrix = np.zeros((new_size, new_size))\n",
    "    new_matrix[:matrix.shape[0], :matrix.shape[1]] = matrix\n",
    "    for i in range(new_size):\n",
    "        for j in range(new_size):\n",
    "            if i < n and j >= matrix.shape[0]:\n",
    "                to_replace = matrix[i, -1]\n",
    "                new_matrix[i, j] = to_replace\n",
    "            elif i >= matrix.shape[1] and j < m:\n",
    "                to_replace = matrix[-1, j]\n",
    "                new_matrix[i, j] = to_replace\n",
    "\n",
    "    return new_matrix\n"
   ]
  },
  {
   "cell_type": "markdown",
   "metadata": {},
   "source": [
    "## Chargement des données"
   ]
  },
  {
   "cell_type": "code",
   "execution_count": 5,
   "metadata": {},
   "outputs": [
    {
     "name": "stdout",
     "output_type": "stream",
     "text": [
      "Taille du dataset : 990\n"
     ]
    },
    {
     "name": "stderr",
     "output_type": "stream",
     "text": [
      "/tmp/ipykernel_8696/1389019417.py:22: FutureWarning: \n",
      "\n",
      "Passing `palette` without assigning `hue` is deprecated and will be removed in v0.14.0. Assign the `x` variable to `hue` and set `legend=False` for the same effect.\n",
      "\n",
      "  sns.barplot(x=np.array(list(sizes.keys())), y=np.array(list(sizes.values())), ax=ax, palette=\"viridis\")\n"
     ]
    },
    {
     "data": {
      "image/png": "[encoded data removed]",
      "text/plain": [
       "<Figure size 640x480 with 1 Axes>"
      ]
     },
     "metadata": {},
     "output_type": "display_data"
    }
   ],
   "source": [
    "dataset_name = \"45_graphs.pkl\"\n",
    "\n",
    "with open(f\"processed/{dataset_name}\", \"rb\") as file:\n",
    "    data = pickle.load(file)\n",
    "\n",
    "print(f\"Taille du dataset : {len(data)}\")\n",
    "\n",
    "matrix = data.loc[1, \"cost_matrix\"]\n",
    "g1 = data.loc[1, \"g1\"]\n",
    "g2 = data.loc[1, \"g2\"]\n",
    "\n",
    "sizes = {}\n",
    "for i in range(len(data)):\n",
    "    size = data.loc[i, \"cost_matrix\"].shape[0]\n",
    "    if size not in sizes:\n",
    "        sizes[size] = 1\n",
    "    else:\n",
    "        sizes[size] += 1\n",
    "\n",
    "fig, ax = plt.subplots()\n",
    "sns.set_style()\n",
    "sns.barplot(x=np.array(list(sizes.keys())), y=np.array(list(sizes.values())), ax=ax, palette=\"viridis\")\n",
    "ax.set_title(\"Nombre de graphes par taille\")\n",
    "ax.set_xlabel(\"Taille\")\n",
    "ax.set_ylabel(\"Nombre de graphes\")\n",
    "plt.show()\n"
   ]
  },
  {
   "cell_type": "markdown",
   "metadata": {},
   "source": [
    "## Génération des données pour le modèle à partir de la base de données"
   ]
  },
  {
   "cell_type": "code",
   "execution_count": 6,
   "metadata": {},
   "outputs": [],
   "source": [
    "def process_matrix(matrix: np.ndarray, size: int) -> np.ndarray:\n",
    "    \"\"\"Process the matrix to be used as input for the model.\"\"\"\n",
    "    matrix = matrix.astype(np.float32)\n",
    "    for i in range(size):\n",
    "        total_value = matrix[i].sum()\n",
    "        probs = [abs((value - total_value) ** 2) for value in matrix[i]]\n",
    "        normalized_probs = [prob / sum(probs) for prob in probs]\n",
    "        matrix[i] = np.round(normalized_probs, 2)\n",
    "    return matrix\n",
    "\n",
    "\n",
    "def solve_matrix(matrix: np.ndarray) -> np.ndarray:\n",
    "    \"\"\"Solve the matrix with the Hungarian algorithm.\"\"\"\n",
    "    m = Munkres()\n",
    "    indexes = m.compute(matrix.copy().tolist())\n",
    "    solution = np.zeros(matrix.shape)\n",
    "    for row, column in indexes:\n",
    "        solution[row][column] = 1\n",
    "    return solution\n",
    "\n",
    "\n",
    "def get_solutions(matrix: np.ndarray, solution: np.ndarray, size: int) -> tuple[list[np.ndarray], list[float]]:\n",
    "    \"\"\"Get all sub-solutions of a solution.\"\"\"\n",
    "    valid_solutions = [solution]\n",
    "    valid_solutions_sum = [round(np.multiply(matrix, solution).sum(), 2)]\n",
    "    # Remove successively the last one by row\n",
    "    for k in range(size - 1):\n",
    "        line = size - k - 1\n",
    "        indexes = np.argwhere(valid_solutions[-1][line] == 1).flatten()\n",
    "        if len(indexes) > 0:\n",
    "            new_solution = valid_solutions[-1].copy()\n",
    "            new_solution[line][indexes[0]] = 0\n",
    "            valid_solutions.append(new_solution)\n",
    "            valid_solutions_sum.append(\n",
    "                round(np.multiply(matrix, new_solution).sum(), 2))\n",
    "    return valid_solutions, valid_solutions_sum\n",
    "\n",
    "\n",
    "def get_random_solution(size: int) -> np.ndarray:\n",
    "    \"\"\"Get a random solution.\"\"\"\n",
    "    random_permutation = np.random.permutation(size)\n",
    "    solution = np.zeros((size, size))\n",
    "    for k in range(size):\n",
    "        solution[k][random_permutation[k]] = 1\n",
    "    return solution\n",
    "\n",
    "\n",
    "def generate_datas(datas: pd.DataFrame, size: int) -> tuple[np.ndarray, np.ndarray]:\n",
    "    \"\"\"Return processed data for the model\"\"\"\n",
    "    states = []\n",
    "    values = []\n",
    "\n",
    "    for i in tqdm.tqdm(range(len(datas))):\n",
    "        # Create a random process matrix\n",
    "        random_matrix = np.array(datas.loc[i, \"cost_matrix\"])\n",
    "        if random_matrix.shape[0] != size:\n",
    "            random_matrix = augmented_matrix(\n",
    "                random_matrix, size, datas.loc[i, \"g1\"], datas.loc[i, \"g2\"]\n",
    "            )\n",
    "\n",
    "        # Solve the problem with the Hungarian algorithm\n",
    "        valide_solution = solve_matrix(random_matrix)\n",
    "\n",
    "        # Get all sub-solutions of the valid solution and add them to the dataset\n",
    "        valid_solutions, _ = get_solutions(\n",
    "            random_matrix, valide_solution, size\n",
    "        )\n",
    "\n",
    "        for valid_solution in valid_solutions:\n",
    "            state = np.stack([random_matrix, valid_solution], axis=0)\n",
    "            states.append(torch.tensor(state, dtype=torch.float32))\n",
    "            values.append(1)\n",
    "\n",
    "        # Create a random solution\n",
    "        solution = get_random_solution(size)\n",
    "\n",
    "        # Get all sub-solutions of the random solution and add them to the dataset\n",
    "        random_solutions, _ = get_solutions(random_matrix, solution, size)\n",
    "\n",
    "        for (random_solution, valid_solution) in zip(random_solutions, valid_solutions):\n",
    "            state = np.stack([random_matrix, random_solution], axis=0)\n",
    "            states.append(torch.tensor(state, dtype=torch.float32))\n",
    "            values.append(1 if np.array_equal(\n",
    "                random_solution, valid_solution) else 0)\n",
    "\n",
    "    return np.stack(states, axis=0), np.array(values)"
   ]
  },
  {
   "cell_type": "code",
   "execution_count": 7,
   "metadata": {},
   "outputs": [
    {
     "name": "stderr",
     "output_type": "stream",
     "text": [
      "  0%|          | 0/990 [00:00<?, ?it/s]"
     ]
    },
    {
     "name": "stderr",
     "output_type": "stream",
     "text": [
      "100%|██████████| 990/990 [00:01<00:00, 578.82it/s]\n"
     ]
    },
    {
     "name": "stdout",
     "output_type": "stream",
     "text": [
      "Taille du dataset : 23760\n",
      "Taille du dataset de test : 2376\n"
     ]
    }
   ],
   "source": [
    "sizes = {}\n",
    "for i in range(len(data)):\n",
    "    size = data.loc[i, \"cost_matrix\"].shape[0]\n",
    "    if size not in sizes:\n",
    "        sizes[size] = 1\n",
    "    else:\n",
    "        sizes[size] += 1\n",
    "\n",
    "sizes = list(sizes.keys())\n",
    "sizes = [MATRIX_SIZE]\n",
    "\n",
    "model_data = {\n",
    "    size: generate_datas(data, size) for size in sizes\n",
    "}\n",
    "\n",
    "test_percentage = 0.1\n",
    "test_size = int(test_percentage * len(model_data[MATRIX_SIZE][0]))\n",
    "print(f\"Taille du dataset : {len(model_data[MATRIX_SIZE][0])}\")\n",
    "print(f\"Taille du dataset de test : {test_size}\")\n",
    "\n",
    "train_states = model_data[MATRIX_SIZE][0][:-test_size]\n",
    "train_values = model_data[MATRIX_SIZE][1][:-test_size]\n",
    "\n",
    "test_states = model_data[MATRIX_SIZE][0][-test_size:]\n",
    "test_values = model_data[MATRIX_SIZE][1][-test_size:]\n",
    "\n",
    "dataset = torch.utils.data.TensorDataset(\n",
    "    torch.tensor(train_states, dtype=torch.float32),\n",
    "    torch.tensor(train_values, dtype=torch.float32)\n",
    ")\n",
    "dataloader = torch.utils.data.DataLoader(dataset, batch_size=64, shuffle=True)"
   ]
  },
  {
   "cell_type": "markdown",
   "metadata": {},
   "source": [
    "## Entrainement du modèle"
   ]
  },
  {
   "cell_type": "code",
   "execution_count": 8,
   "metadata": {},
   "outputs": [
    {
     "name": "stdout",
     "output_type": "stream",
     "text": [
      "-----Epoch 1, loss: 0.79-----\n",
      "Test loss trained model: 0.39\n",
      "Test loss untrained model: 5.10\n",
      "\n",
      "-----Epoch 2, loss: 0.26-----\n",
      "Test loss trained model: 0.31\n",
      "Test loss untrained model: 5.38\n",
      "\n",
      "-----Epoch 3, loss: 0.20-----\n",
      "Test loss trained model: 0.29\n",
      "Test loss untrained model: 4.88\n",
      "\n",
      "-----Epoch 4, loss: 0.19-----\n",
      "Test loss trained model: 0.31\n",
      "Test loss untrained model: 4.89\n",
      "\n",
      "-----Epoch 5, loss: 0.18-----\n",
      "Test loss trained model: 0.29\n",
      "Test loss untrained model: 5.14\n",
      "\n",
      "-----Epoch 6, loss: 0.17-----\n",
      "Test loss trained model: 0.28\n",
      "Test loss untrained model: 4.85\n",
      "\n",
      "-----Epoch 7, loss: 0.14-----\n",
      "Test loss trained model: 0.23\n",
      "Test loss untrained model: 4.88\n",
      "\n",
      "-----Epoch 8, loss: 0.13-----\n",
      "Test loss trained model: 0.33\n",
      "Test loss untrained model: 4.95\n",
      "\n",
      "-----Epoch 9, loss: 0.12-----\n",
      "Test loss trained model: 0.35\n",
      "Test loss untrained model: 5.49\n",
      "\n",
      "-----Epoch 10, loss: 0.12-----\n",
      "Test loss trained model: 0.28\n",
      "Test loss untrained model: 4.79\n",
      "\n"
     ]
    }
   ],
   "source": [
    "# Create a loss function and an optimizer\n",
    "criterion = nn.MSELoss()\n",
    "optimizer = torch.optim.Adam(model.parameters(), lr=0.001)\n",
    "\n",
    "# Train the model\n",
    "for epoch in range(10):\n",
    "    running_loss = 0\n",
    "    for states, values in dataloader:\n",
    "        optimizer.zero_grad()\n",
    "        states = states.to(device)\n",
    "        outputs = model(states)\n",
    "        values = values.unsqueeze(1)\n",
    "        values = torch.cat([1 - values, values], dim=1)\n",
    "        values = values.to(device)\n",
    "        loss = criterion(outputs, values)\n",
    "        loss.backward()\n",
    "        optimizer.step()\n",
    "        running_loss += loss.item()\n",
    "\n",
    "    if (epoch + 1) % 1 == 0:\n",
    "        print(\n",
    "            f\"-----Epoch {epoch + 1}, loss: {running_loss / len(dataloader) * 10:.2f}-----\"\n",
    "        )\n",
    "\n",
    "        values = test_values.reshape(-1, 1)\n",
    "        values = np.concatenate([1 - values, values], axis=1)\n",
    "        values = torch.tensor(values, dtype=torch.float32).to(device)\n",
    "        outputs = model(torch.tensor(\n",
    "            test_states, dtype=torch.float32).to(device))\n",
    "        loss = criterion(outputs, values)\n",
    "        print(f\"Test loss trained model: {loss.item() * 10:.2f}\")\n",
    "\n",
    "        untrained_model = CNNModel(\n",
    "            state_size=MATRIX_SIZE**2,\n",
    "            input_size=2,\n",
    "            num_hidden=64\n",
    "        ).to(device)\n",
    "        outputs = untrained_model(torch.tensor(\n",
    "            test_states, dtype=torch.float32).to(device))\n",
    "        loss = criterion(outputs, values)\n",
    "        print(f\"Test loss untrained model: {loss.item() * 10:.2f}\\n\")"
   ]
  },
  {
   "cell_type": "markdown",
   "metadata": {},
   "source": [
    "## Evaluation du modèle"
   ]
  },
  {
   "cell_type": "code",
   "execution_count": 9,
   "metadata": {},
   "outputs": [
    {
     "name": "stdout",
     "output_type": "stream",
     "text": [
      "Sample size: [198, 198]\n"
     ]
    },
    {
     "name": "stderr",
     "output_type": "stream",
     "text": [
      "/tmp/ipykernel_8696/19948247.py:36: FutureWarning: \n",
      "\n",
      "Passing `palette` without assigning `hue` is deprecated and will be removed in v0.14.0. Assign the `x` variable to `hue` and set `legend=False` for the same effect.\n",
      "\n",
      "  sns.barplot(x=np.array(list(level_matrix.keys())),\n"
     ]
    },
    {
     "data": {
      "image/png": "[encoded data removed]",
      "text/plain": [
       "<Figure size 640x480 with 1 Axes>"
      ]
     },
     "metadata": {},
     "output_type": "display_data"
    }
   ],
   "source": [
    "def get_matrix_level(matrix: np.ndarray) -> int:\n",
    "    \"\"\"Return the index of the last row with a 1\"\"\"\n",
    "    return next(\n",
    "        (i - 1 for i in range(matrix.shape[0]) if matrix[i].sum() != 1),\n",
    "        matrix.shape[0] - 1\n",
    "    )\n",
    "\n",
    "\n",
    "level_matrix = {\n",
    "    level: [] for level in range(MATRIX_SIZE)\n",
    "}\n",
    "\n",
    "for i in range(len(test_states)):\n",
    "    level = get_matrix_level(test_states[i][1])\n",
    "    level_matrix[level].append(i)\n",
    "\n",
    "min_level = min(len(level_matrix[level]) for level in level_matrix)\n",
    "max_level = max(len(level_matrix[level]) for level in level_matrix)\n",
    "\n",
    "print(\n",
    "    f\"Sample size: [{min_level}, {max_level}]\"\n",
    ")\n",
    "# show model accuracy for each level\n",
    "accuracies = []\n",
    "for level in level_matrix:\n",
    "    correct = 0\n",
    "    for i in level_matrix[level][:1000]:\n",
    "        outputs = model(torch.tensor(\n",
    "            test_states[i].reshape(1, 2, MATRIX_SIZE, MATRIX_SIZE), dtype=torch.float32).to(device))\n",
    "        if torch.argmax(outputs).item() == test_values[i]:\n",
    "            correct += 1\n",
    "    accuracies.append(correct / len(level_matrix[level]))\n",
    "\n",
    "fig, ax = plt.subplots()\n",
    "sns.set_style()\n",
    "sns.barplot(x=np.array(list(level_matrix.keys())),\n",
    "            y=np.array(accuracies), ax=ax, palette=\"viridis\")\n",
    "ax.set_title(\"Accuracy du modèle par niveau\")\n",
    "ax.set_xlabel(\"Niveau\")\n",
    "ax.set_ylabel(\"Accuracy\")\n",
    "plt.show()"
   ]
  },
  {
   "cell_type": "markdown",
   "metadata": {},
   "source": [
    "## Test du modèle sur des graphes générés aléatoirement"
   ]
  },
  {
   "cell_type": "code",
   "execution_count": 60,
   "metadata": {},
   "outputs": [],
   "source": [
    "@ray.remote\n",
    "def generate_graph(size: int) -> nx.Graph:\n",
    "    graph = nx.fast_gnp_random_graph(size, 0.5)\n",
    "    while not nx.is_connected(graph):\n",
    "        graph = nx.fast_gnp_random_graph(size, 0.5)\n",
    "    # Add random weights to the nodes\n",
    "    for node in graph.nodes:\n",
    "        graph.nodes[node][\"weight\"] = np.random.randint(0, 10)\n",
    "    return graph\n",
    "\n",
    "\n",
    "def get_cost_matrix(g1: nx.Graph, g2: nx.Graph) -> np.ndarray:\n",
    "    \"\"\"\n",
    "    Create the cost matrix between the two graphs.\n",
    "\n",
    "    Args:\n",
    "        g1 (nx.Graph): The first graph.\n",
    "        g2 (nx.Graph): The second graph.\n",
    "        cost (dict): The cost dictionary.\n",
    "\n",
    "    Returns:\n",
    "        pd.DataFrame: The cost matrix.\n",
    "    \"\"\"\n",
    "    n = len(g1.nodes)\n",
    "    m = len(g2.nodes)\n",
    "\n",
    "    # Create the cost matrix\n",
    "    degree_cost = np.zeros((n, m))\n",
    "    for i, node_1 in enumerate(g1.nodes):\n",
    "        for j, node_2 in enumerate(g2.nodes):\n",
    "            degree = abs(g1.degree[node_1] - g2.degree[node_2])\n",
    "            cost_sub = 0 if g1.nodes[node_1][\"weight\"] == g2.nodes[node_2][\"weight\"] else 1\n",
    "            degree_cost[i, j] = cost_sub + degree\n",
    "\n",
    "    # Create the delete cost matrix\n",
    "    delete_cost = np.zeros((n, n))\n",
    "    for i, j in itertools.product(range(n), range(n)):\n",
    "        node_degree = g1.degree[i]\n",
    "        delete_cost[i, j] = 1 + node_degree\n",
    "\n",
    "    # Create the insert cost matrix\n",
    "    insert_cost = np.zeros((m, m))\n",
    "    for j in range(m):\n",
    "        node_degree = g2.degree[j]\n",
    "        insert_cost[:, j] = 1 + node_degree\n",
    "\n",
    "    # Create the substitution cost matrix\n",
    "    sub_cost = np.zeros((m, n))\n",
    "\n",
    "    # Create the cost matrix\n",
    "    cost_matrix = np.zeros((n + m, n + m))\n",
    "    for i, j in itertools.product(range(n + m), range(n + m)):\n",
    "        if i < n and j < m:\n",
    "            cost_matrix[i, j] = degree_cost[i, j]\n",
    "        elif i < n:\n",
    "            cost_matrix[i, j] = delete_cost[i, j - m]\n",
    "        elif j < m:\n",
    "            cost_matrix[i, j] = insert_cost[i - n, j]\n",
    "        else:\n",
    "            cost_matrix[i, j] = sub_cost[i - n, j - m]\n",
    "\n",
    "    return cost_matrix\n",
    "\n",
    "\n",
    "@ray.remote\n",
    "def calculate_ged(g1, g2):\n",
    "    cost_matrix = get_cost_matrix(g1, g2)\n",
    "    ged = nx.graph_edit_distance(g1, g2)\n",
    "    return g1, g2, cost_matrix, ged\n",
    "\n",
    "\n",
    "def generate_data(n: int, size: int, verbose: bool = False) -> pd.DataFrame:\n",
    "    graphs = ray.get([generate_graph.remote(size) for _ in range(n)])\n",
    "\n",
    "    combinations = itertools.combinations(graphs, 2)\n",
    "    if verbose:\n",
    "        combinations = tqdm.tqdm(combinations, total=n * (n - 1) // 2)\n",
    "    data = [calculate_ged.remote(g1, g2) for g1, g2 in combinations]\n",
    "    results = ray.get(data)\n",
    "\n",
    "    return pd.DataFrame(results, columns=[\"g1\", \"g2\", \"cost_matrix\", \"ged\"])"
   ]
  },
  {
   "cell_type": "code",
   "execution_count": 61,
   "metadata": {},
   "outputs": [
    {
     "name": "stdout",
     "output_type": "stream",
     "text": [
      "Generating 5 graphs\n"
     ]
    },
    {
     "name": "stderr",
     "output_type": "stream",
     "text": [
      "2024-03-22 08:29:57,582\tINFO worker.py:1673 -- Started a local Ray instance.\n",
      "100%|██████████| 10/10 [00:00<00:00, 900.01it/s]\n"
     ]
    },
    {
     "ename": "KeyboardInterrupt",
     "evalue": "",
     "output_type": "error",
     "traceback": [
      "\u001b[1;31m---------------------------------------------------------------------------\u001b[0m",
      "\u001b[1;31mKeyboardInterrupt\u001b[0m                         Traceback (most recent call last)",
      "Cell \u001b[1;32mIn[61], line 5\u001b[0m\n\u001b[0;32m      2\u001b[0m n \u001b[38;5;241m=\u001b[39m \u001b[38;5;28mint\u001b[39m((\u001b[38;5;241m1\u001b[39m \u001b[38;5;241m+\u001b[39m np\u001b[38;5;241m.\u001b[39msqrt(\u001b[38;5;241m1\u001b[39m \u001b[38;5;241m+\u001b[39m \u001b[38;5;241m8\u001b[39m \u001b[38;5;241m*\u001b[39m data_size)) \u001b[38;5;241m/\u001b[39m \u001b[38;5;241m2\u001b[39m)\n\u001b[0;32m      3\u001b[0m \u001b[38;5;28mprint\u001b[39m(\u001b[38;5;124mf\u001b[39m\u001b[38;5;124m\"\u001b[39m\u001b[38;5;124mGenerating \u001b[39m\u001b[38;5;132;01m{\u001b[39;00mn\u001b[38;5;132;01m}\u001b[39;00m\u001b[38;5;124m graphs\u001b[39m\u001b[38;5;124m\"\u001b[39m)\n\u001b[1;32m----> 5\u001b[0m graphs \u001b[38;5;241m=\u001b[39m \u001b[43mgenerate_data\u001b[49m\u001b[43m(\u001b[49m\u001b[43mn\u001b[49m\u001b[43m,\u001b[49m\u001b[43m \u001b[49m\u001b[43mMATRIX_SIZE\u001b[49m\u001b[43m,\u001b[49m\u001b[43m \u001b[49m\u001b[43mverbose\u001b[49m\u001b[38;5;241;43m=\u001b[39;49m\u001b[38;5;28;43;01mTrue\u001b[39;49;00m\u001b[43m)\u001b[49m\n\u001b[0;32m      6\u001b[0m \u001b[38;5;28mprint\u001b[39m(\u001b[38;5;124mf\u001b[39m\u001b[38;5;124m\"\u001b[39m\u001b[38;5;124mTaille du dataset : \u001b[39m\u001b[38;5;132;01m{\u001b[39;00m\u001b[38;5;28mlen\u001b[39m(graphs)\u001b[38;5;132;01m}\u001b[39;00m\u001b[38;5;124m\"\u001b[39m)\n\u001b[0;32m      7\u001b[0m ray\u001b[38;5;241m.\u001b[39mshutdown()\n",
      "Cell \u001b[1;32mIn[60], line 79\u001b[0m, in \u001b[0;36mgenerate_data\u001b[1;34m(n, size, verbose)\u001b[0m\n\u001b[0;32m     77\u001b[0m     combinations \u001b[38;5;241m=\u001b[39m tqdm\u001b[38;5;241m.\u001b[39mtqdm(combinations, total\u001b[38;5;241m=\u001b[39mn \u001b[38;5;241m*\u001b[39m (n \u001b[38;5;241m-\u001b[39m \u001b[38;5;241m1\u001b[39m) \u001b[38;5;241m/\u001b[39m\u001b[38;5;241m/\u001b[39m \u001b[38;5;241m2\u001b[39m)\n\u001b[0;32m     78\u001b[0m data \u001b[38;5;241m=\u001b[39m [calculate_ged\u001b[38;5;241m.\u001b[39mremote(g1, g2) \u001b[38;5;28;01mfor\u001b[39;00m g1, g2 \u001b[38;5;129;01min\u001b[39;00m combinations]\n\u001b[1;32m---> 79\u001b[0m results \u001b[38;5;241m=\u001b[39m \u001b[43mray\u001b[49m\u001b[38;5;241;43m.\u001b[39;49m\u001b[43mget\u001b[49m\u001b[43m(\u001b[49m\u001b[43mdata\u001b[49m\u001b[43m)\u001b[49m\n\u001b[0;32m     81\u001b[0m \u001b[38;5;28;01mreturn\u001b[39;00m pd\u001b[38;5;241m.\u001b[39mDataFrame(results, columns\u001b[38;5;241m=\u001b[39m[\u001b[38;5;124m\"\u001b[39m\u001b[38;5;124mg1\u001b[39m\u001b[38;5;124m\"\u001b[39m, \u001b[38;5;124m\"\u001b[39m\u001b[38;5;124mg2\u001b[39m\u001b[38;5;124m\"\u001b[39m, \u001b[38;5;124m\"\u001b[39m\u001b[38;5;124mcost_matrix\u001b[39m\u001b[38;5;124m\"\u001b[39m, \u001b[38;5;124m\"\u001b[39m\u001b[38;5;124mged\u001b[39m\u001b[38;5;124m\"\u001b[39m])\n",
      "File \u001b[1;32mc:\\Users\\hugoh\\AppData\\Local\\Programs\\Python\\Python310\\lib\\site-packages\\ray\\_private\\auto_init_hook.py:24\u001b[0m, in \u001b[0;36mwrap_auto_init.<locals>.auto_init_wrapper\u001b[1;34m(*args, **kwargs)\u001b[0m\n\u001b[0;32m     21\u001b[0m \u001b[38;5;129m@wraps\u001b[39m(fn)\n\u001b[0;32m     22\u001b[0m \u001b[38;5;28;01mdef\u001b[39;00m \u001b[38;5;21mauto_init_wrapper\u001b[39m(\u001b[38;5;241m*\u001b[39margs, \u001b[38;5;241m*\u001b[39m\u001b[38;5;241m*\u001b[39mkwargs):\n\u001b[0;32m     23\u001b[0m     auto_init_ray()\n\u001b[1;32m---> 24\u001b[0m     \u001b[38;5;28;01mreturn\u001b[39;00m fn(\u001b[38;5;241m*\u001b[39margs, \u001b[38;5;241m*\u001b[39m\u001b[38;5;241m*\u001b[39mkwargs)\n",
      "File \u001b[1;32mc:\\Users\\hugoh\\AppData\\Local\\Programs\\Python\\Python310\\lib\\site-packages\\ray\\_private\\client_mode_hook.py:103\u001b[0m, in \u001b[0;36mclient_mode_hook.<locals>.wrapper\u001b[1;34m(*args, **kwargs)\u001b[0m\n\u001b[0;32m    101\u001b[0m     \u001b[38;5;28;01mif\u001b[39;00m func\u001b[38;5;241m.\u001b[39m\u001b[38;5;18m__name__\u001b[39m \u001b[38;5;241m!=\u001b[39m \u001b[38;5;124m\"\u001b[39m\u001b[38;5;124minit\u001b[39m\u001b[38;5;124m\"\u001b[39m \u001b[38;5;129;01mor\u001b[39;00m is_client_mode_enabled_by_default:\n\u001b[0;32m    102\u001b[0m         \u001b[38;5;28;01mreturn\u001b[39;00m \u001b[38;5;28mgetattr\u001b[39m(ray, func\u001b[38;5;241m.\u001b[39m\u001b[38;5;18m__name__\u001b[39m)(\u001b[38;5;241m*\u001b[39margs, \u001b[38;5;241m*\u001b[39m\u001b[38;5;241m*\u001b[39mkwargs)\n\u001b[1;32m--> 103\u001b[0m \u001b[38;5;28;01mreturn\u001b[39;00m func(\u001b[38;5;241m*\u001b[39margs, \u001b[38;5;241m*\u001b[39m\u001b[38;5;241m*\u001b[39mkwargs)\n",
      "File \u001b[1;32mc:\\Users\\hugoh\\AppData\\Local\\Programs\\Python\\Python310\\lib\\site-packages\\ray\\_private\\worker.py:2557\u001b[0m, in \u001b[0;36mget\u001b[1;34m(object_refs, timeout)\u001b[0m\n\u001b[0;32m   2552\u001b[0m     \u001b[38;5;28;01mraise\u001b[39;00m \u001b[38;5;167;01mValueError\u001b[39;00m(\n\u001b[0;32m   2553\u001b[0m         \u001b[38;5;124m\"\u001b[39m\u001b[38;5;124m'\u001b[39m\u001b[38;5;124mobject_refs\u001b[39m\u001b[38;5;124m'\u001b[39m\u001b[38;5;124m must either be an ObjectRef or a list of ObjectRefs.\u001b[39m\u001b[38;5;124m\"\u001b[39m\n\u001b[0;32m   2554\u001b[0m     )\n\u001b[0;32m   2556\u001b[0m \u001b[38;5;66;03m# TODO(ujvl): Consider how to allow user to retrieve the ready objects.\u001b[39;00m\n\u001b[1;32m-> 2557\u001b[0m values, debugger_breakpoint \u001b[38;5;241m=\u001b[39m \u001b[43mworker\u001b[49m\u001b[38;5;241;43m.\u001b[39;49m\u001b[43mget_objects\u001b[49m\u001b[43m(\u001b[49m\u001b[43mobject_refs\u001b[49m\u001b[43m,\u001b[49m\u001b[43m \u001b[49m\u001b[43mtimeout\u001b[49m\u001b[38;5;241;43m=\u001b[39;49m\u001b[43mtimeout\u001b[49m\u001b[43m)\u001b[49m\n\u001b[0;32m   2558\u001b[0m \u001b[38;5;28;01mfor\u001b[39;00m i, value \u001b[38;5;129;01min\u001b[39;00m \u001b[38;5;28menumerate\u001b[39m(values):\n\u001b[0;32m   2559\u001b[0m     \u001b[38;5;28;01mif\u001b[39;00m \u001b[38;5;28misinstance\u001b[39m(value, RayError):\n",
      "File \u001b[1;32mc:\\Users\\hugoh\\AppData\\Local\\Programs\\Python\\Python310\\lib\\site-packages\\ray\\_private\\worker.py:769\u001b[0m, in \u001b[0;36mWorker.get_objects\u001b[1;34m(self, object_refs, timeout)\u001b[0m\n\u001b[0;32m    763\u001b[0m         \u001b[38;5;28;01mraise\u001b[39;00m \u001b[38;5;167;01mTypeError\u001b[39;00m(\n\u001b[0;32m    764\u001b[0m             \u001b[38;5;124mf\u001b[39m\u001b[38;5;124m\"\u001b[39m\u001b[38;5;124mAttempting to call `get` on the value \u001b[39m\u001b[38;5;132;01m{\u001b[39;00mobject_ref\u001b[38;5;132;01m}\u001b[39;00m\u001b[38;5;124m, \u001b[39m\u001b[38;5;124m\"\u001b[39m\n\u001b[0;32m    765\u001b[0m             \u001b[38;5;124m\"\u001b[39m\u001b[38;5;124mwhich is not an ray.ObjectRef.\u001b[39m\u001b[38;5;124m\"\u001b[39m\n\u001b[0;32m    766\u001b[0m         )\n\u001b[0;32m    768\u001b[0m timeout_ms \u001b[38;5;241m=\u001b[39m \u001b[38;5;28mint\u001b[39m(timeout \u001b[38;5;241m*\u001b[39m \u001b[38;5;241m1000\u001b[39m) \u001b[38;5;28;01mif\u001b[39;00m timeout \u001b[38;5;129;01mis\u001b[39;00m \u001b[38;5;129;01mnot\u001b[39;00m \u001b[38;5;28;01mNone\u001b[39;00m \u001b[38;5;28;01melse\u001b[39;00m \u001b[38;5;241m-\u001b[39m\u001b[38;5;241m1\u001b[39m\n\u001b[1;32m--> 769\u001b[0m data_metadata_pairs \u001b[38;5;241m=\u001b[39m \u001b[38;5;28;43mself\u001b[39;49m\u001b[38;5;241;43m.\u001b[39;49m\u001b[43mcore_worker\u001b[49m\u001b[38;5;241;43m.\u001b[39;49m\u001b[43mget_objects\u001b[49m\u001b[43m(\u001b[49m\n\u001b[0;32m    770\u001b[0m \u001b[43m    \u001b[49m\u001b[43mobject_refs\u001b[49m\u001b[43m,\u001b[49m\u001b[43m \u001b[49m\u001b[38;5;28;43mself\u001b[39;49m\u001b[38;5;241;43m.\u001b[39;49m\u001b[43mcurrent_task_id\u001b[49m\u001b[43m,\u001b[49m\u001b[43m \u001b[49m\u001b[43mtimeout_ms\u001b[49m\n\u001b[0;32m    771\u001b[0m \u001b[43m\u001b[49m\u001b[43m)\u001b[49m\n\u001b[0;32m    772\u001b[0m debugger_breakpoint \u001b[38;5;241m=\u001b[39m \u001b[38;5;124mb\u001b[39m\u001b[38;5;124m\"\u001b[39m\u001b[38;5;124m\"\u001b[39m\n\u001b[0;32m    773\u001b[0m \u001b[38;5;28;01mfor\u001b[39;00m data, metadata \u001b[38;5;129;01min\u001b[39;00m data_metadata_pairs:\n",
      "File \u001b[1;32mpython\\ray\\_raylet.pyx:3211\u001b[0m, in \u001b[0;36mray._raylet.CoreWorker.get_objects\u001b[1;34m()\u001b[0m\n",
      "File \u001b[1;32mpython\\ray\\_raylet.pyx:449\u001b[0m, in \u001b[0;36mray._raylet.check_status\u001b[1;34m()\u001b[0m\n",
      "\u001b[1;31mKeyboardInterrupt\u001b[0m: "
     ]
    }
   ],
   "source": [
    "data_size = 10\n",
    "n = int((1 + np.sqrt(1 + 8 * data_size)) / 2)\n",
    "print(f\"Generating {n} graphs\")\n",
    "\n",
    "graphs = generate_data(n, MATRIX_SIZE, verbose=True)\n",
    "print(f\"Taille du dataset : {len(graphs)}\")\n",
    "ray.shutdown()"
   ]
  },
  {
   "cell_type": "code",
   "execution_count": null,
   "metadata": {},
   "outputs": [],
   "source": []
  }
 ],
 "metadata": {
  "kernelspec": {
   "display_name": "Python 3",
   "language": "python",
   "name": "python3"
  },
  "language_info": {
   "codemirror_mode": {
    "name": "ipython",
    "version": 3
   },
   "file_extension": ".py",
   "mimetype": "text/x-python",
   "name": "python",
   "nbconvert_exporter": "python",
   "pygments_lexer": "ipython3",
   "version": "3.10.13"
  }
 },
 "nbformat": 4,
 "nbformat_minor": 2
}
