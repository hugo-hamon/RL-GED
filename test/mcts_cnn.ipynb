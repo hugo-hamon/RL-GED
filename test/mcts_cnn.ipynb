{
 "cells": [
  {
   "cell_type": "markdown",
   "metadata": {},
   "source": [
    "# Importation des librairies"
   ]
  },
  {
   "cell_type": "code",
   "execution_count": 22,
   "metadata": {},
   "outputs": [],
   "source": [
    "from __future__ import annotations\n",
    "import torch.nn.functional as F\n",
    "import matplotlib.pyplot as plt\n",
    "from munkres import Munkres\n",
    "from typing import Optional\n",
    "import torch.nn as nn\n",
    "from tqdm import tqdm\n",
    "import numpy as np\n",
    "import random\n",
    "import torch\n",
    "import time\n",
    "import math"
   ]
  },
  {
   "cell_type": "markdown",
   "metadata": {},
   "source": [
    "## Implémentation de l'algorithme MCTS et des fonctions utilitaires"
   ]
  },
  {
   "cell_type": "code",
   "execution_count": 6,
   "metadata": {},
   "outputs": [],
   "source": [
    "def get_mcts_cost(matrix: np.ndarray, config:dict, max_depth: int, max_iterations: int) -> tuple[list[int], float]:\n",
    "    \"\"\"Return the best actions and the cost of the best actions using MCTS.\"\"\"\n",
    "    state = np.stack([matrix, np.ones(matrix.shape), np.zeros(matrix.shape)], axis=0)\n",
    "    actions = []\n",
    "    for i in range(matrix.shape[0]):\n",
    "        root = Node(state, config, depth=i)\n",
    "        mcts = MCTS(root, config, max_depth, max_iterations)\n",
    "        action = mcts.search()\n",
    "        actions.append(action)\n",
    "        state[1][i] = 0\n",
    "        state[1][:, action] = 0\n",
    "        state[2][i][action] = 1\n",
    "\n",
    "    return actions, sum(matrix[i][action] for i, action in enumerate(actions))\n",
    "\n",
    "def get_untried_actions(state: np.ndarray, depth: int) -> list[int]:\n",
    "    \"\"\"Return a list of untried actions.\"\"\"\n",
    "    if depth >= state[1].shape[0]:\n",
    "        return []\n",
    "    return np.argwhere(state[1][depth] == 1).flatten().tolist()\n",
    "\n",
    "\n",
    "class Node:\n",
    "\n",
    "    def __init__(self, state: np.ndarray, config: dict, parent=None, action=None, depth=0):\n",
    "        self.state = state\n",
    "        self.config = config\n",
    "        self.parent = parent\n",
    "        self.action = action\n",
    "        self.depth = depth\n",
    "\n",
    "        self.children: list[Node] = []\n",
    "\n",
    "        self.visit_count = 0\n",
    "        self.value = 0\n",
    "\n",
    "    def is_expanded(self) -> bool:\n",
    "        \"\"\"Returns True if the node has children.\"\"\"\n",
    "        return len(self.children) > 0\n",
    "\n",
    "    def select(self) -> Optional[Node]:\n",
    "        \"\"\"Return the child with the highest UCB score.\"\"\"\n",
    "        best_child = None\n",
    "        best_ucb = -np.inf\n",
    "        \n",
    "        for child in self.children:\n",
    "            ucb = self.get_ucb(child)\n",
    "            if ucb > best_ucb:\n",
    "                best_child = child\n",
    "                best_ucb = ucb\n",
    "\n",
    "        return best_child\n",
    "\n",
    "    def get_ucb(self, child: Node) -> float:\n",
    "        \"\"\"Return the UCB score of a child node.\"\"\"\n",
    "        if child.visit_count == 0:\n",
    "            return np.inf\n",
    "        exploitation = child.value / child.visit_count\n",
    "        exploration = self.config[\"exploration_constant\"] * np.sqrt(np.log(self.visit_count) / child.visit_count)\n",
    "\n",
    "        return exploitation + exploration\n",
    "\n",
    "    def expand(self) -> None:\n",
    "        \"\"\"Expand the node by creating all possible children.\"\"\"\n",
    "        child = None\n",
    "        for action in get_untried_actions(self.state, self.depth):\n",
    "            new_state = self.state.copy()\n",
    "            new_state[1][self.depth] = 0\n",
    "            new_state[1][:, action] = 0\n",
    "            new_state[2][self.depth][action] = 1\n",
    "\n",
    "            child = Node(new_state, self.config, self, action, self.depth + 1)\n",
    "            self.children.append(child)\n",
    "\n",
    "    def backpropagate(self, value: float) -> None:\n",
    "        \"\"\"Update the node's value and visit count.\"\"\"\n",
    "        self.value += value\n",
    "        self.visit_count += 1\n",
    "\n",
    "        if self.parent is not None:\n",
    "            self.parent.backpropagate(value)\n",
    "\n",
    "\n",
    "class MCTS:\n",
    "\n",
    "    def __init__(self, root: Node, config: dict, max_depth: int, max_iterations: int = 1000):\n",
    "        self.root = root\n",
    "        self.config = config\n",
    "        self.max_depth = max_depth\n",
    "        self.max_iterations = max_iterations\n",
    "\n",
    "    def search(self) -> int:\n",
    "        for _ in range(self.max_iterations):\n",
    "            node = self.select_node()\n",
    "            value = self.rollout(node)\n",
    "            node.backpropagate(value)\n",
    "\n",
    "        best_action = None\n",
    "        best_value = -np.inf\n",
    "        for child in self.root.children:\n",
    "            if child.visit_count > best_value:\n",
    "                best_action = child.action\n",
    "                best_value = child.visit_count\n",
    "        if best_action is None:\n",
    "            raise ValueError(\"No best action found.\")\n",
    "        return int(best_action)\n",
    "\n",
    "    def select_node(self) -> Node:\n",
    "        \"\"\"Select a node to expand.\"\"\"\n",
    "        node = self.root\n",
    "        while node.is_expanded():\n",
    "            node = node.select()\n",
    "            if node is None:\n",
    "                raise ValueError(\"Selecting a childless node.\")\n",
    "        if not node.is_expanded():\n",
    "            node.expand()\n",
    "        return node\n",
    "\n",
    "    def rollout(self, node: Node) -> float:\n",
    "        \"\"\"Simulate a game from the given node.\"\"\"\n",
    "        state = node.state.copy()\n",
    "        depth = node.depth\n",
    "        while depth < self.max_depth:\n",
    "            actions = get_untried_actions(state, depth)\n",
    "            if len(actions) == 1:\n",
    "                action = actions[0]\n",
    "            elif self.config[\"rollout_mode\"] == \"random\":\n",
    "                action = random.choice(actions)\n",
    "            else:\n",
    "                actions_values = [state[0][depth][action] for action in actions]\n",
    "                total_value = sum(actions_values)\n",
    "                action_probs = [abs((value - total_value) ** 2) for value in actions_values]\n",
    "                normalized_probs = [prob / sum(action_probs) for prob in action_probs]\n",
    "                action = random.choices(actions, normalized_probs)[0]\n",
    "\n",
    "            state[1][depth] = 0\n",
    "            state[1][:, action] = 0\n",
    "            state[2][depth][action] = 1\n",
    "            depth += 1\n",
    "        return self.evaluate(state)\n",
    "\n",
    "    def evaluate(self, state: np.ndarray) -> float:\n",
    "        \"\"\"Evaluate the given state.\"\"\"\n",
    "        return 1 - np.multiply(state[0], state[2]).sum() / state[0].sum()"
   ]
  },
  {
   "cell_type": "markdown",
   "metadata": {},
   "source": [
    "## Test de l'algorithme MCTS sur le problème du LSAP"
   ]
  },
  {
   "cell_type": "code",
   "execution_count": 17,
   "metadata": {},
   "outputs": [
    {
     "name": "stdout",
     "output_type": "stream",
     "text": [
      "Random matrix:\n",
      "[[17  9  9 16  3]\n",
      " [ 7 18  4 19 10]\n",
      " [11 12  5 13 13]\n",
      " [ 2  9  2 14 12]\n",
      " [10  4  9  2  7]]\n",
      "MCST actions: [4, 2, 1, 0, 3]\n",
      "MCTS cost: 23\n",
      "Hungarian actions: [4, 2, 1, 0, 3]\n",
      "Hungarian cost: 23\n"
     ]
    }
   ],
   "source": [
    "mcts_config = {\n",
    "    \"exploration_constant\": 1,\n",
    "    \"rollout_mode\": \"random\"\n",
    "}\n",
    "\n",
    "# Création d'une matrice aléatoire\n",
    "matrix_size = 5\n",
    "matrix = np.random.randint(1, 20, (matrix_size, matrix_size))\n",
    "\n",
    "# Algorithme MCTS\n",
    "actions, cost = get_mcts_cost(matrix, mcts_config, matrix_size, 1000)\n",
    "print(f\"Random matrix:\\n{matrix}\")\n",
    "print(f\"MCST actions: {actions}\")\n",
    "print(f\"MCTS cost: {cost}\")\n",
    "\n",
    "# Algorithme hongrois\n",
    "m = Munkres()\n",
    "indexes = m.compute(matrix.copy().tolist())\n",
    "cost = 0\n",
    "for row, column in indexes:\n",
    "    value = matrix[row][column]\n",
    "    cost += value\n",
    "print(f\"Hungarian actions: {[column for row, column in indexes]}\")\n",
    "print(f\"Hungarian cost: {cost}\")"
   ]
  },
  {
   "cell_type": "markdown",
   "metadata": {},
   "source": [
    "## Benchmark de l'algorithme MCTS sur le problème du LSAP contre l'algorithme hongrois"
   ]
  },
  {
   "cell_type": "code",
   "execution_count": 39,
   "metadata": {},
   "outputs": [
    {
     "name": "stderr",
     "output_type": "stream",
     "text": [
      "100%|██████████| 100/100 [01:37<00:00,  1.03it/s]"
     ]
    },
    {
     "name": "stdout",
     "output_type": "stream",
     "text": [
      "Nombre de possibilitées pour une matrice de taille 10x10 : 3_628_800\n",
      "MCTS cost: 36.360, time: 0.97417s\n",
      "Hungarian cost: 31.240, time: 0.00043s\n"
     ]
    },
    {
     "name": "stderr",
     "output_type": "stream",
     "text": [
      "\n"
     ]
    }
   ],
   "source": [
    "mcts_config = {\n",
    "    \"exploration_constant\": 0.1,\n",
    "    \"rollout_mode\": \"random\"\n",
    "}\n",
    "\n",
    "simulation_number = 100\n",
    "mcts_simulation_number = 1000\n",
    "matrix_size = 10\n",
    "\n",
    "mcts_costs = []\n",
    "hungarian_costs = []\n",
    "mcts_times = []\n",
    "hungarian_times = []\n",
    "\n",
    "\n",
    "for _ in tqdm(range(simulation_number)):\n",
    "    matrix = np.random.randint(1, 20, (matrix_size, matrix_size))\n",
    "\n",
    "    start = time.time()\n",
    "    actions, cost = get_mcts_cost(matrix, mcts_config, matrix_size, mcts_simulation_number)\n",
    "    mcts_times.append(time.time() - start)\n",
    "    mcts_costs.append(cost)\n",
    "\n",
    "    start = time.time()\n",
    "    indexes = m.compute(matrix.copy().tolist())\n",
    "    cost = 0\n",
    "    for row, column in indexes:\n",
    "        value = matrix[row][column]\n",
    "        cost += value\n",
    "    hungarian_times.append(time.time() - start)\n",
    "    hungarian_costs.append(cost)\n",
    "\n",
    "print(f\"Nombre de possibilitées pour une matrice de taille {matrix_size}x{matrix_size} : {math.factorial(matrix_size):_}\")\n",
    "\n",
    "print(f\"MCTS cost: {np.mean(mcts_costs):.3f}, time: {np.mean(mcts_times):.5f}s\")\n",
    "print(f\"Hungarian cost: {np.mean(hungarian_costs):.3f}, time: {np.mean(hungarian_times):.5f}s\")"
   ]
  },
  {
   "cell_type": "markdown",
   "metadata": {},
   "source": [
    "## Impacts des paramètres de l'algorithme MCTS sur la qualité de la solution"
   ]
  },
  {
   "cell_type": "markdown",
   "metadata": {},
   "source": [
    "### Paramètre de la constante d'exploration"
   ]
  },
  {
   "cell_type": "code",
   "execution_count": 42,
   "metadata": {},
   "outputs": [
    {
     "name": "stderr",
     "output_type": "stream",
     "text": [
      "100%|██████████| 10/10 [02:07<00:00, 12.74s/it]\n"
     ]
    },
    {
     "data": {
      "image/png": "[encoded data removed]",
      "text/plain": [
       "<Figure size 640x480 with 1 Axes>"
      ]
     },
     "metadata": {},
     "output_type": "display_data"
    }
   ],
   "source": [
    "simulation_number = 100\n",
    "mcts_simulation_number = 100\n",
    "matrix_size = 10\n",
    "\n",
    "errors = []\n",
    "for c in tqdm(np.arange(0, 1, 0.1)):\n",
    "    config = {\n",
    "        \"exploration_constant\": c,\n",
    "        \"rollout_mode\": \"other\"\n",
    "    }\n",
    "    mstc_scores = []\n",
    "    munkres_scores = []\n",
    "    for _ in range(simulation_number):\n",
    "        random_matrix = np.random.randint(1, 100, (matrix_size, matrix_size))\n",
    "        _, mcts_cost = get_mcts_cost(random_matrix, config, matrix_size, mcts_simulation_number)\n",
    "        mstc_scores.append(mcts_cost)\n",
    "\n",
    "        m = Munkres()\n",
    "        indexes = m.compute(random_matrix.copy().tolist())\n",
    "        cost = 0\n",
    "        for row, column in indexes:\n",
    "            value = random_matrix[row][column]\n",
    "            cost += value\n",
    "        munkres_scores.append(cost)\n",
    "\n",
    "    errors.append(np.mean((np.array(mstc_scores) - np.array(munkres_scores)) ** 2))\n",
    "\n",
    "plt.plot(np.arange(0, 1, 0.1), errors)\n",
    "plt.xlabel(\"Exploration constant\")\n",
    "plt.ylabel(\"Mean squared error\")\n",
    "plt.show()"
   ]
  },
  {
   "cell_type": "markdown",
   "metadata": {},
   "source": [
    "### Paramètre du nombre de simulations"
   ]
  },
  {
   "cell_type": "code",
   "execution_count": null,
   "metadata": {},
   "outputs": [],
   "source": [
    "simulation_number = 100\n",
    "mcts_simulation_number = 100\n",
    "matrix_size = 10\n",
    "\n",
    "config = {\n",
    "    \"exploration_constant\": 0.1,\n",
    "    \"rollout_mode\": \"other\"\n",
    "}\n",
    "\n",
    "errors = []\n",
    "for exploration_number in tqdm(range(10, 1000, 100)):\n",
    "\n",
    "    mstc_scores = []\n",
    "    munkres_scores = []\n",
    "    for _ in range(simulation_number):\n",
    "        random_matrix = np.random.randint(1, 100, (matrix_size, matrix_size))\n",
    "        _, mcts_cost = get_mcts_cost(\n",
    "            random_matrix, config, matrix_size, exploration_number)\n",
    "        mstc_scores.append(mcts_cost)\n",
    "\n",
    "        m = Munkres()\n",
    "        indexes = m.compute(random_matrix.copy().tolist())\n",
    "        cost = 0\n",
    "        for row, column in indexes:\n",
    "            value = random_matrix[row][column]\n",
    "            cost += value\n",
    "        munkres_scores.append(cost)\n",
    "\n",
    "    errors.append(\n",
    "        np.mean((np.array(mstc_scores) - np.array(munkres_scores)) ** 2))\n",
    "\n",
    "plt.plot(np.arange(0, 1, 0.1), errors)\n",
    "plt.xlabel(\"Exploration constant\")\n",
    "plt.ylabel(\"Mean squared error\")\n",
    "plt.show()"
   ]
  }
 ],
 "metadata": {
  "kernelspec": {
   "display_name": "Python 3",
   "language": "python",
   "name": "python3"
  },
  "language_info": {
   "codemirror_mode": {
    "name": "ipython",
    "version": 3
   },
   "file_extension": ".py",
   "mimetype": "text/x-python",
   "name": "python",
   "nbconvert_exporter": "python",
   "pygments_lexer": "ipython3",
   "version": "3.10.0"
  }
 },
 "nbformat": 4,
 "nbformat_minor": 2
}
